{
  "nbformat": 4,
  "nbformat_minor": 0,
  "metadata": {
    "colab": {
      "name": "main.ipynb",
      "version": "0.3.2",
      "provenance": [],
      "collapsed_sections": []
    },
    "language_info": {
      "codemirror_mode": {
        "name": "ipython",
        "version": 3
      },
      "file_extension": ".py",
      "mimetype": "text/x-python",
      "name": "python",
      "nbconvert_exporter": "python",
      "pygments_lexer": "ipython3",
      "version": "3.6.7"
    },
    "kernelspec": {
      "name": "python3",
      "display_name": "Python 3"
    },
    "accelerator": "GPU"
  },
  "cells": [
    {
      "metadata": {
        "id": "1xsMPuuH5L4g",
        "colab_type": "code",
        "colab": {}
      },
      "cell_type": "code",
      "source": [
        "#!/usr/bin/python\n",
        "\n",
        "\n",
        "import torch\n",
        "import torch.nn as nn\n",
        "import torchvision.transforms as transforms\n",
        "from torch.utils.data import DataLoader\n",
        "\n",
        "import demultiplier as dem\n",
        "import encoder as enc\n",
        "import generator as gen\n",
        "import discriminator as disc\n",
        "import STL10GrayColor as STLGray\n",
        "import utils as utls\n",
        "import numpy as np\n",
        "import matplotlib.pyplot as plt\n",
        "from skimage.color import lab2rgb"
      ],
      "execution_count": 0,
      "outputs": []
    },
    {
      "metadata": {
        "id": "RUcBis81-8Zr",
        "colab_type": "code",
        "colab": {
          "base_uri": "https://localhost:8080/",
          "height": 35
        },
        "outputId": "f07ef03e-7252-42d5-e4e8-4bc4c70eb32d"
      },
      "cell_type": "code",
      "source": [
        "\n",
        "device = torch.device('cuda' if torch.cuda.is_available() else 'cpu')\n",
        "\n",
        "#data\n",
        "transform = transforms.Compose([transforms.Resize(128)])#,\n",
        "#                                transforms.ToTensor()])\n",
        "\n",
        "# Load STL10 dataset\n",
        "stl10_trainset = STLGray.STL10GrayColor(root=\"./data\",\n",
        "                              split='train',\n",
        "                              download=True,\n",
        "                              transform=transform)"
      ],
      "execution_count": 2,
      "outputs": [
        {
          "output_type": "stream",
          "text": [
            "Files already downloaded and verified\n"
          ],
          "name": "stdout"
        }
      ]
    },
    {
      "metadata": {
        "id": "4Gtk1Oj45L4m",
        "colab_type": "code",
        "colab": {}
      },
      "cell_type": "code",
      "source": [
        "# Parameters\n",
        "batch_size = 32\n",
        "z_dim = 512\n",
        "params_loader = {'batch_size': batch_size,\n",
        "               'shuffle': False}\n",
        "\n",
        "train_loader = DataLoader(stl10_trainset, **params_loader)\n"
      ],
      "execution_count": 0,
      "outputs": []
    },
    {
      "metadata": {
        "id": "FTC2r4gf5L4q",
        "colab_type": "code",
        "colab": {}
      },
      "cell_type": "code",
      "source": [
        "demultiplier = dem.Demultiplier()\n",
        "demultiplier = demultiplier.to(device)\n",
        "\n",
        "encoder = enc.Encoder()\n",
        "encoder = encoder.to(device)\n",
        "\n",
        "generator = gen.Generator()\n",
        "generator.apply(utls.weights_init)\n",
        "generator = generator.to(device)\n",
        "\n",
        "discriminator = disc.Discriminator()\n",
        "discriminator.apply(utls.weights_init)\n",
        "discriminator = discriminator.to(device)\n",
        "\n",
        "criterion = nn.MSELoss()\n",
        "\n",
        "optimizer_m = torch.optim.Adam(demultiplier.parameters(), lr=0.0001, betas=(0.5, 0.999))\n",
        "optimizer_e = torch.optim.Adam(encoder.parameters(), lr=0.0001, betas=(0.5, 0.999))\n",
        "optimizer_g = torch.optim.Adam(generator.parameters(), lr=0.0001, betas=(0.5, 0.999))\n",
        "optimizer_d = torch.optim.Adam(discriminator.parameters(), lr=0.0002, betas=(0.5, 0.999))\n"
      ],
      "execution_count": 0,
      "outputs": []
    },
    {
      "metadata": {
        "id": "e1bGDf8n5L4y",
        "colab_type": "code",
        "outputId": "a19124ab-b0b9-4bdc-ca2e-c45b33115556",
        "colab": {
          "base_uri": "https://localhost:8080/",
          "height": 613
        }
      },
      "cell_type": "code",
      "source": [
        "real_label, fake_label = (1, 0)\n",
        "i = 0\n",
        "n_epochs = 15\n",
        "D_losses = []\n",
        "G_losses = []\n",
        "plot_this_shit = True\n",
        "\n",
        "for i in range(0,n_epochs) :\n",
        "  print(\"epoch \", i)\n",
        "  i+=1\n",
        "  \n",
        "  j=0\n",
        "  \n",
        "  for batch_index, (image_g, image_c) in enumerate(train_loader):\n",
        "\n",
        "      image_g = image_g.to(device)\n",
        "      image_c = image_c.to(device)\n",
        "\n",
        "      # train discriminator with real\n",
        "      #print(\"training discriminator with real\")\n",
        "\n",
        "      discriminator.zero_grad()\n",
        "\n",
        "      d_real_output = discriminator(image_c)\n",
        "\n",
        "      labels = torch.full((image_c.shape[0],), real_label, device=device) #device = device\n",
        "      errD_real = criterion(d_real_output, labels)\n",
        "      errD_real.backward()\n",
        "\n",
        "      # demultiply\n",
        "\n",
        "      image_g_dem = demultiplier(image_g)\n",
        "\n",
        "      #print('Demultiplied')\n",
        "      #print(image_g.shape)\n",
        "      # generate color image\n",
        "\n",
        "      enc_output = encoder(image_g_dem)\n",
        "\n",
        "      #print('encoded')\n",
        "      #print(enc_output.shape)\n",
        "\n",
        "      color_output = generator(enc_output)\n",
        "\n",
        "      #print('decoded')\n",
        "      #print(color_output.shape)\n",
        "\n",
        "      # train discriminator with fake\n",
        "      #print(\"training discriminator with fake\")\n",
        "\n",
        "      #why detach ? https://github.com/pytorch/examples/issues/116\n",
        "      d_fake_output = discriminator(color_output.detach())\n",
        "\n",
        "      #print(\"discriminated\")\n",
        "      #print(d_fake_output.shape)\n",
        "\n",
        "      labels = torch.full((image_c.shape[0],), fake_label, device=device) #device = device\n",
        "\n",
        "      errD_fake = criterion(d_fake_output, labels)\n",
        "      errD_fake.backward()\n",
        "      \n",
        "      total_errD = errD_fake + errD_real\n",
        "\n",
        "      optimizer_d.step()\n",
        "\n",
        "      # train generator\n",
        "      #print(\"training generator\")\n",
        "\n",
        "      generator.zero_grad()\n",
        "\n",
        "      labels.fill_(real_label)\n",
        "\n",
        "      #this is needed because of the previous detach, line 99.\n",
        "      d_fake_output = discriminator(color_output)\n",
        "\n",
        "      errG = criterion(d_fake_output, labels)\n",
        "      errG.backward()\n",
        "\n",
        "      optimizer_g.step()\n",
        "      # train demultiplier\n",
        "\n",
        "      demultiplier.zero_grad()\n",
        "      # no idea how to do this\n",
        "\n",
        "      if (j%10 == 0) :\n",
        "        print(\"iteration \", j, \"out of \", len(train_loader.dataset)//batch_size, \n",
        "              \"\\terrD : \", round(total_errD.item(),3), \"\\terrG : \", round(errG.item(),3))\n",
        "      \n",
        "      D_losses.append(total_errD.item())\n",
        "      G_losses.append(errG.item())\n",
        "      \n",
        "      if (j == 50 and plot_this_shit):\n",
        "        with torch.no_grad():\n",
        "          color_output = generator(enc_output).detach().cpu()\n",
        "          \n",
        "          r, c = 5, 5\n",
        "          index = 0\n",
        "          fig, axs = plt.subplots(r, c, figsize=(10,10))\n",
        "           \n",
        "          for a in range(r):\n",
        "            for b in range(c):\n",
        "                img_g = image_g.cpu()[index,...]\n",
        "                img_g = img_g.detach().numpy()*255\n",
        "                img_c = color_output[index,...].detach().numpy()+128\n",
        "\n",
        "                final = np.transpose(np.array([img_g, img_c[0,...], img_c[1,...]]), (1,2,0)) #not quite sure\n",
        "                \n",
        "                axs[a,b].imshow(lab2rgb(final))\n",
        "                axs[a,b].axis('off')\n",
        "                \n",
        "                if (index == 1) :\n",
        "                  print(\"R min/max : \", np.min(final[0]), np.max(final[0]), \"G min/max : \", np.min(final[1]), np.max(final[1]), \"B min/max : \", np.min(final[2]), np.max(final[2]))\n",
        "                \n",
        "                index += 1\n",
        "          \n",
        "          fig.savefig(\"___epoch_%d.png\" % i)\n",
        "          plt.close()\n",
        "          print(\"plotted\")\n",
        "      \n",
        "      \n",
        "      j += 1\n",
        "          \n"
      ],
      "execution_count": 77,
      "outputs": [
        {
          "output_type": "stream",
          "text": [
            "epoch  0\n",
            "iteration  0 out of  156 \terrD :  0.315 \terrG :  1.227\n",
            "iteration  10 out of  156 \terrD :  0.203 \terrG :  1.496\n",
            "iteration  20 out of  156 \terrD :  0.608 \terrG :  0.607\n",
            "iteration  30 out of  156 \terrD :  0.316 \terrG :  1.086\n",
            "iteration  40 out of  156 \terrD :  0.395 \terrG :  1.477\n",
            "iteration  50 out of  156 \terrD :  0.227 \terrG :  1.043\n",
            "R min/max :  127.79701 128.1042 G min/max :  127.692314 128.46811 B min/max :  127.55948 128.35306\n",
            "plotted\n",
            "iteration  60 out of  156 \terrD :  0.529 \terrG :  0.813\n",
            "iteration  70 out of  156 \terrD :  0.497 \terrG :  3.099\n",
            "iteration  80 out of  156 \terrD :  0.767 \terrG :  2.925\n"
          ],
          "name": "stdout"
        },
        {
          "output_type": "error",
          "ename": "KeyboardInterrupt",
          "evalue": "ignored",
          "traceback": [
            "\u001b[0;31m---------------------------------------------------------------------------\u001b[0m",
            "\u001b[0;31mKeyboardInterrupt\u001b[0m                         Traceback (most recent call last)",
            "\u001b[0;32m<ipython-input-77-5a3e21d2d477>\u001b[0m in \u001b[0;36m<module>\u001b[0;34m()\u001b[0m\n\u001b[1;32m     12\u001b[0m   \u001b[0mj\u001b[0m\u001b[0;34m=\u001b[0m\u001b[0;36m0\u001b[0m\u001b[0;34m\u001b[0m\u001b[0;34m\u001b[0m\u001b[0m\n\u001b[1;32m     13\u001b[0m \u001b[0;34m\u001b[0m\u001b[0m\n\u001b[0;32m---> 14\u001b[0;31m   \u001b[0;32mfor\u001b[0m \u001b[0mbatch_index\u001b[0m\u001b[0;34m,\u001b[0m \u001b[0;34m(\u001b[0m\u001b[0mimage_g\u001b[0m\u001b[0;34m,\u001b[0m \u001b[0mimage_c\u001b[0m\u001b[0;34m)\u001b[0m \u001b[0;32min\u001b[0m \u001b[0menumerate\u001b[0m\u001b[0;34m(\u001b[0m\u001b[0mtrain_loader\u001b[0m\u001b[0;34m)\u001b[0m\u001b[0;34m:\u001b[0m\u001b[0;34m\u001b[0m\u001b[0;34m\u001b[0m\u001b[0m\n\u001b[0m\u001b[1;32m     15\u001b[0m \u001b[0;34m\u001b[0m\u001b[0m\n\u001b[1;32m     16\u001b[0m       \u001b[0mimage_g\u001b[0m \u001b[0;34m=\u001b[0m \u001b[0mimage_g\u001b[0m\u001b[0;34m.\u001b[0m\u001b[0mto\u001b[0m\u001b[0;34m(\u001b[0m\u001b[0mdevice\u001b[0m\u001b[0;34m)\u001b[0m\u001b[0;34m\u001b[0m\u001b[0;34m\u001b[0m\u001b[0m\n",
            "\u001b[0;32m/usr/local/lib/python3.6/dist-packages/torch/utils/data/dataloader.py\u001b[0m in \u001b[0;36m__next__\u001b[0;34m(self)\u001b[0m\n\u001b[1;32m    613\u001b[0m         \u001b[0;32mif\u001b[0m \u001b[0mself\u001b[0m\u001b[0;34m.\u001b[0m\u001b[0mnum_workers\u001b[0m \u001b[0;34m==\u001b[0m \u001b[0;36m0\u001b[0m\u001b[0;34m:\u001b[0m  \u001b[0;31m# same-process loading\u001b[0m\u001b[0;34m\u001b[0m\u001b[0;34m\u001b[0m\u001b[0m\n\u001b[1;32m    614\u001b[0m             \u001b[0mindices\u001b[0m \u001b[0;34m=\u001b[0m \u001b[0mnext\u001b[0m\u001b[0;34m(\u001b[0m\u001b[0mself\u001b[0m\u001b[0;34m.\u001b[0m\u001b[0msample_iter\u001b[0m\u001b[0;34m)\u001b[0m  \u001b[0;31m# may raise StopIteration\u001b[0m\u001b[0;34m\u001b[0m\u001b[0;34m\u001b[0m\u001b[0m\n\u001b[0;32m--> 615\u001b[0;31m             \u001b[0mbatch\u001b[0m \u001b[0;34m=\u001b[0m \u001b[0mself\u001b[0m\u001b[0;34m.\u001b[0m\u001b[0mcollate_fn\u001b[0m\u001b[0;34m(\u001b[0m\u001b[0;34m[\u001b[0m\u001b[0mself\u001b[0m\u001b[0;34m.\u001b[0m\u001b[0mdataset\u001b[0m\u001b[0;34m[\u001b[0m\u001b[0mi\u001b[0m\u001b[0;34m]\u001b[0m \u001b[0;32mfor\u001b[0m \u001b[0mi\u001b[0m \u001b[0;32min\u001b[0m \u001b[0mindices\u001b[0m\u001b[0;34m]\u001b[0m\u001b[0;34m)\u001b[0m\u001b[0;34m\u001b[0m\u001b[0;34m\u001b[0m\u001b[0m\n\u001b[0m\u001b[1;32m    616\u001b[0m             \u001b[0;32mif\u001b[0m \u001b[0mself\u001b[0m\u001b[0;34m.\u001b[0m\u001b[0mpin_memory\u001b[0m\u001b[0;34m:\u001b[0m\u001b[0;34m\u001b[0m\u001b[0;34m\u001b[0m\u001b[0m\n\u001b[1;32m    617\u001b[0m                 \u001b[0mbatch\u001b[0m \u001b[0;34m=\u001b[0m \u001b[0mpin_memory_batch\u001b[0m\u001b[0;34m(\u001b[0m\u001b[0mbatch\u001b[0m\u001b[0;34m)\u001b[0m\u001b[0;34m\u001b[0m\u001b[0;34m\u001b[0m\u001b[0m\n",
            "\u001b[0;32m/usr/local/lib/python3.6/dist-packages/torch/utils/data/dataloader.py\u001b[0m in \u001b[0;36m<listcomp>\u001b[0;34m(.0)\u001b[0m\n\u001b[1;32m    613\u001b[0m         \u001b[0;32mif\u001b[0m \u001b[0mself\u001b[0m\u001b[0;34m.\u001b[0m\u001b[0mnum_workers\u001b[0m \u001b[0;34m==\u001b[0m \u001b[0;36m0\u001b[0m\u001b[0;34m:\u001b[0m  \u001b[0;31m# same-process loading\u001b[0m\u001b[0;34m\u001b[0m\u001b[0;34m\u001b[0m\u001b[0m\n\u001b[1;32m    614\u001b[0m             \u001b[0mindices\u001b[0m \u001b[0;34m=\u001b[0m \u001b[0mnext\u001b[0m\u001b[0;34m(\u001b[0m\u001b[0mself\u001b[0m\u001b[0;34m.\u001b[0m\u001b[0msample_iter\u001b[0m\u001b[0;34m)\u001b[0m  \u001b[0;31m# may raise StopIteration\u001b[0m\u001b[0;34m\u001b[0m\u001b[0;34m\u001b[0m\u001b[0m\n\u001b[0;32m--> 615\u001b[0;31m             \u001b[0mbatch\u001b[0m \u001b[0;34m=\u001b[0m \u001b[0mself\u001b[0m\u001b[0;34m.\u001b[0m\u001b[0mcollate_fn\u001b[0m\u001b[0;34m(\u001b[0m\u001b[0;34m[\u001b[0m\u001b[0mself\u001b[0m\u001b[0;34m.\u001b[0m\u001b[0mdataset\u001b[0m\u001b[0;34m[\u001b[0m\u001b[0mi\u001b[0m\u001b[0;34m]\u001b[0m \u001b[0;32mfor\u001b[0m \u001b[0mi\u001b[0m \u001b[0;32min\u001b[0m \u001b[0mindices\u001b[0m\u001b[0;34m]\u001b[0m\u001b[0;34m)\u001b[0m\u001b[0;34m\u001b[0m\u001b[0;34m\u001b[0m\u001b[0m\n\u001b[0m\u001b[1;32m    616\u001b[0m             \u001b[0;32mif\u001b[0m \u001b[0mself\u001b[0m\u001b[0;34m.\u001b[0m\u001b[0mpin_memory\u001b[0m\u001b[0;34m:\u001b[0m\u001b[0;34m\u001b[0m\u001b[0;34m\u001b[0m\u001b[0m\n\u001b[1;32m    617\u001b[0m                 \u001b[0mbatch\u001b[0m \u001b[0;34m=\u001b[0m \u001b[0mpin_memory_batch\u001b[0m\u001b[0;34m(\u001b[0m\u001b[0mbatch\u001b[0m\u001b[0;34m)\u001b[0m\u001b[0;34m\u001b[0m\u001b[0;34m\u001b[0m\u001b[0m\n",
            "\u001b[0;32m/content/STL10GrayColor.py\u001b[0m in \u001b[0;36m__getitem__\u001b[0;34m(self, index)\u001b[0m\n\u001b[1;32m     30\u001b[0m \u001b[0;34m\u001b[0m\u001b[0m\n\u001b[1;32m     31\u001b[0m             \u001b[0;31m# Convert img RGB -> Lab\u001b[0m\u001b[0;34m\u001b[0m\u001b[0;34m\u001b[0m\u001b[0;34m\u001b[0m\u001b[0m\n\u001b[0;32m---> 32\u001b[0;31m             \u001b[0mlab_img\u001b[0m \u001b[0;34m=\u001b[0m \u001b[0mcolor\u001b[0m\u001b[0;34m.\u001b[0m\u001b[0mrgb2lab\u001b[0m\u001b[0;34m(\u001b[0m\u001b[0mimg\u001b[0m\u001b[0;34m)\u001b[0m\u001b[0;34m\u001b[0m\u001b[0;34m\u001b[0m\u001b[0m\n\u001b[0m\u001b[1;32m     33\u001b[0m \u001b[0;34m\u001b[0m\u001b[0m\n\u001b[1;32m     34\u001b[0m             \u001b[0;31m# Transpose the lab img: dim 128x128x3 -> 3x128x128\u001b[0m\u001b[0;34m\u001b[0m\u001b[0;34m\u001b[0m\u001b[0;34m\u001b[0m\u001b[0m\n",
            "\u001b[0;32m/usr/local/lib/python3.6/dist-packages/skimage/color/colorconv.py\u001b[0m in \u001b[0;36mrgb2lab\u001b[0;34m(rgb, illuminant, observer)\u001b[0m\n\u001b[1;32m   1041\u001b[0m     \u001b[0ma\u001b[0m \u001b[0mlist\u001b[0m \u001b[0mof\u001b[0m \u001b[0msupported\u001b[0m \u001b[0milluminants\u001b[0m\u001b[0;34m.\u001b[0m\u001b[0;34m\u001b[0m\u001b[0;34m\u001b[0m\u001b[0m\n\u001b[1;32m   1042\u001b[0m     \"\"\"\n\u001b[0;32m-> 1043\u001b[0;31m     \u001b[0;32mreturn\u001b[0m \u001b[0mxyz2lab\u001b[0m\u001b[0;34m(\u001b[0m\u001b[0mrgb2xyz\u001b[0m\u001b[0;34m(\u001b[0m\u001b[0mrgb\u001b[0m\u001b[0;34m)\u001b[0m\u001b[0;34m,\u001b[0m \u001b[0milluminant\u001b[0m\u001b[0;34m,\u001b[0m \u001b[0mobserver\u001b[0m\u001b[0;34m)\u001b[0m\u001b[0;34m\u001b[0m\u001b[0;34m\u001b[0m\u001b[0m\n\u001b[0m\u001b[1;32m   1044\u001b[0m \u001b[0;34m\u001b[0m\u001b[0m\n\u001b[1;32m   1045\u001b[0m \u001b[0;34m\u001b[0m\u001b[0m\n",
            "\u001b[0;32m/usr/local/lib/python3.6/dist-packages/skimage/color/colorconv.py\u001b[0m in \u001b[0;36mrgb2xyz\u001b[0;34m(rgb)\u001b[0m\n\u001b[1;32m    686\u001b[0m     \u001b[0marr\u001b[0m \u001b[0;34m=\u001b[0m \u001b[0m_prepare_colorarray\u001b[0m\u001b[0;34m(\u001b[0m\u001b[0mrgb\u001b[0m\u001b[0;34m)\u001b[0m\u001b[0;34m.\u001b[0m\u001b[0mcopy\u001b[0m\u001b[0;34m(\u001b[0m\u001b[0;34m)\u001b[0m\u001b[0;34m\u001b[0m\u001b[0;34m\u001b[0m\u001b[0m\n\u001b[1;32m    687\u001b[0m     \u001b[0mmask\u001b[0m \u001b[0;34m=\u001b[0m \u001b[0marr\u001b[0m \u001b[0;34m>\u001b[0m \u001b[0;36m0.04045\u001b[0m\u001b[0;34m\u001b[0m\u001b[0;34m\u001b[0m\u001b[0m\n\u001b[0;32m--> 688\u001b[0;31m     \u001b[0marr\u001b[0m\u001b[0;34m[\u001b[0m\u001b[0mmask\u001b[0m\u001b[0;34m]\u001b[0m \u001b[0;34m=\u001b[0m \u001b[0mnp\u001b[0m\u001b[0;34m.\u001b[0m\u001b[0mpower\u001b[0m\u001b[0;34m(\u001b[0m\u001b[0;34m(\u001b[0m\u001b[0marr\u001b[0m\u001b[0;34m[\u001b[0m\u001b[0mmask\u001b[0m\u001b[0;34m]\u001b[0m \u001b[0;34m+\u001b[0m \u001b[0;36m0.055\u001b[0m\u001b[0;34m)\u001b[0m \u001b[0;34m/\u001b[0m \u001b[0;36m1.055\u001b[0m\u001b[0;34m,\u001b[0m \u001b[0;36m2.4\u001b[0m\u001b[0;34m)\u001b[0m\u001b[0;34m\u001b[0m\u001b[0;34m\u001b[0m\u001b[0m\n\u001b[0m\u001b[1;32m    689\u001b[0m     \u001b[0marr\u001b[0m\u001b[0;34m[\u001b[0m\u001b[0;34m~\u001b[0m\u001b[0mmask\u001b[0m\u001b[0;34m]\u001b[0m \u001b[0;34m/=\u001b[0m \u001b[0;36m12.92\u001b[0m\u001b[0;34m\u001b[0m\u001b[0;34m\u001b[0m\u001b[0m\n\u001b[1;32m    690\u001b[0m     \u001b[0;32mreturn\u001b[0m \u001b[0m_convert\u001b[0m\u001b[0;34m(\u001b[0m\u001b[0mxyz_from_rgb\u001b[0m\u001b[0;34m,\u001b[0m \u001b[0marr\u001b[0m\u001b[0;34m)\u001b[0m\u001b[0;34m\u001b[0m\u001b[0;34m\u001b[0m\u001b[0m\n",
            "\u001b[0;31mKeyboardInterrupt\u001b[0m: "
          ]
        }
      ]
    },
    {
      "metadata": {
        "id": "FjlIQhn25L45",
        "colab_type": "code",
        "colab": {}
      },
      "cell_type": "code",
      "source": [
        ""
      ],
      "execution_count": 0,
      "outputs": []
    },
    {
      "metadata": {
        "id": "jomjuN0Z5L49",
        "colab_type": "code",
        "colab": {}
      },
      "cell_type": "code",
      "source": [
        ""
      ],
      "execution_count": 0,
      "outputs": []
    },
    {
      "metadata": {
        "id": "b50QdcAp5L5A",
        "colab_type": "code",
        "colab": {}
      },
      "cell_type": "code",
      "source": [
        ""
      ],
      "execution_count": 0,
      "outputs": []
    }
  ]
}