{
  "nbformat": 4,
  "nbformat_minor": 0,
  "metadata": {
    "colab": {
      "name": "main.ipynb",
      "version": "0.3.2",
      "provenance": [],
      "collapsed_sections": []
    },
    "language_info": {
      "codemirror_mode": {
        "name": "ipython",
        "version": 3
      },
      "file_extension": ".py",
      "mimetype": "text/x-python",
      "name": "python",
      "nbconvert_exporter": "python",
      "pygments_lexer": "ipython3",
      "version": "3.6.7"
    },
    "kernelspec": {
      "name": "python3",
      "display_name": "Python 3"
    },
    "accelerator": "GPU"
  },
  "cells": [
    {
      "metadata": {
        "id": "1xsMPuuH5L4g",
        "colab_type": "code",
        "colab": {}
      },
      "cell_type": "code",
      "source": [
        "#!/usr/bin/python\n",
        "\n",
        "\n",
        "import torch\n",
        "import torch.nn as nn\n",
        "import torchvision.transforms as transforms\n",
        "from torch.utils.data import DataLoader\n",
        "\n",
        "import demultiplier as dem\n",
        "import encoder as enc\n",
        "import generator as gen\n",
        "import discriminator as disc\n",
        "import STL10GrayColor as STLGray\n",
        "import utils as utls\n",
        "import numpy as np\n",
        "import matplotlib.pyplot as plt\n",
        "from skimage.color import lab2rgb"
      ],
      "execution_count": 0,
      "outputs": []
    },
    {
      "metadata": {
        "id": "RUcBis81-8Zr",
        "colab_type": "code",
        "outputId": "4fdf8c1d-1d52-4f8a-8654-44cf3c8743ed",
        "colab": {
          "base_uri": "https://localhost:8080/",
          "height": 35
        }
      },
      "cell_type": "code",
      "source": [
        "\n",
        "device = torch.device('cuda' if torch.cuda.is_available() else 'cpu')\n",
        "\n",
        "#data\n",
        "transform = transforms.Compose([transforms.Resize(128)])#,\n",
        "#                                transforms.ToTensor()])\n",
        "\n",
        "# Load STL10 dataset\n",
        "stl10_trainset = STLGray.STL10GrayColor(root=\"./data\",\n",
        "                              split='train',\n",
        "                              download=True,\n",
        "                              transform=transform)"
      ],
      "execution_count": 2,
      "outputs": [
        {
          "output_type": "stream",
          "text": [
            "Files already downloaded and verified\n"
          ],
          "name": "stdout"
        }
      ]
    },
    {
      "metadata": {
        "id": "4Gtk1Oj45L4m",
        "colab_type": "code",
        "colab": {}
      },
      "cell_type": "code",
      "source": [
        "# Parameters\n",
        "batch_size = 32\n",
        "z_dim = 512\n",
        "params_loader = {'batch_size': batch_size,\n",
        "               'shuffle': False}\n",
        "\n",
        "train_loader = DataLoader(stl10_trainset, **params_loader)\n"
      ],
      "execution_count": 0,
      "outputs": []
    },
    {
      "metadata": {
        "id": "FTC2r4gf5L4q",
        "colab_type": "code",
        "colab": {}
      },
      "cell_type": "code",
      "source": [
        "demultiplier = dem.Demultiplier()\n",
        "demultiplier = demultiplier.to(device)\n",
        "\n",
        "encoder = enc.Encoder()\n",
        "encoder = encoder.to(device)\n",
        "\n",
        "generator = gen.Generator()\n",
        "generator.apply(utls.weights_init)\n",
        "generator = generator.to(device)\n",
        "\n",
        "discriminator = disc.Discriminator()\n",
        "discriminator.apply(utls.weights_init)\n",
        "discriminator = discriminator.to(device)\n",
        "\n",
        "criterion = nn.MSELoss()\n",
        "\n",
        "optimizer_m = torch.optim.Adam(demultiplier.parameters(), lr=0.0001, betas=(0.5, 0.999))\n",
        "optimizer_e = torch.optim.Adam(encoder.parameters(), lr=0.0001, betas=(0.5, 0.999))\n",
        "optimizer_g = torch.optim.Adam(generator.parameters(), lr=0.0001, betas=(0.5, 0.999))\n",
        "optimizer_d = torch.optim.Adam(discriminator.parameters(), lr=0.0002, betas=(0.5, 0.999))\n"
      ],
      "execution_count": 0,
      "outputs": []
    },
    {
      "metadata": {
        "id": "e1bGDf8n5L4y",
        "colab_type": "code",
        "outputId": "87fc52aa-00fb-4a99-c983-d19991fa124b",
        "colab": {
          "base_uri": "https://localhost:8080/",
          "height": 308
        }
      },
      "cell_type": "code",
      "source": [
        "real_label, fake_label = (1, 0)\n",
        "i = 0\n",
        "n_epochs = 15\n",
        "D_losses = []\n",
        "G_losses = []\n",
        "plot_this_shit = True\n",
        "\n",
        "for i in range(0,n_epochs) :\n",
        "  print(\"epoch \", i)\n",
        "  i+=1\n",
        "  \n",
        "  j=0\n",
        "  \n",
        "  for batch_index, (image_g, image_c) in enumerate(train_loader):\n",
        "\n",
        "      image_g = image_g.to(device)\n",
        "      image_c = image_c.to(device)\n",
        "\n",
        "      # train discriminator with real\n",
        "      #print(\"training discriminator with real\")\n",
        "\n",
        "      discriminator.zero_grad()\n",
        "\n",
        "      d_real_output = discriminator(image_c)\n",
        "\n",
        "      labels = torch.full((image_c.shape[0],), real_label, device=device) #device = device\n",
        "      errD_real = criterion(d_real_output, labels)\n",
        "      errD_real.backward()\n",
        "\n",
        "      # demultiply\n",
        "\n",
        "      image_g_dem = demultiplier(image_g)\n",
        "\n",
        "      #print('Demultiplied')\n",
        "      #print(image_g.shape)\n",
        "      # generate color image\n",
        "\n",
        "      enc_output = encoder(image_g_dem)\n",
        "\n",
        "      #print('encoded')\n",
        "      #print(enc_output.shape)\n",
        "\n",
        "      color_output = generator(enc_output)\n",
        "\n",
        "      #print('decoded')\n",
        "      #print(color_output.shape)\n",
        "\n",
        "      # train discriminator with fake\n",
        "      #print(\"training discriminator with fake\")\n",
        "\n",
        "      #why detach ? https://github.com/pytorch/examples/issues/116\n",
        "      d_fake_output = discriminator(color_output.detach())\n",
        "\n",
        "      #print(\"discriminated\")\n",
        "      #print(d_fake_output.shape)\n",
        "\n",
        "      labels = torch.full((image_c.shape[0],), fake_label, device=device) #device = device\n",
        "\n",
        "      errD_fake = criterion(d_fake_output, labels)\n",
        "      errD_fake.backward()\n",
        "      \n",
        "      total_errD = errD_fake + errD_real\n",
        "\n",
        "      optimizer_d.step()\n",
        "\n",
        "      # train generator\n",
        "      #print(\"training generator\")\n",
        "\n",
        "      generator.zero_grad()\n",
        "\n",
        "      labels.fill_(real_label)\n",
        "\n",
        "      #this is needed because of the previous detach, line 99.\n",
        "      d_fake_output = discriminator(color_output)\n",
        "\n",
        "      errG = criterion(d_fake_output, labels)\n",
        "      errG.backward()\n",
        "\n",
        "      optimizer_g.step()\n",
        "      # train demultiplier\n",
        "\n",
        "      demultiplier.zero_grad()\n",
        "      # no idea how to do this\n",
        "\n",
        "      if (j%10 == 0) :\n",
        "        print(\"iteration \", j, \"out of \", len(train_loader.dataset)//batch_size, \n",
        "              \"\\terrD : \", round(total_errD.item(),3), \"\\terrG : \", round(errG.item(),3))\n",
        "      \n",
        "      D_losses.append(total_errD.item())\n",
        "      G_losses.append(errG.item())\n",
        "      \n",
        "      if (j == 0 and plot_this_shit):\n",
        "        with torch.no_grad():\n",
        "          color_output = generator(enc_output).detach().cpu()\n",
        "          \n",
        "          r, c = 5, 5\n",
        "          index = 0\n",
        "          fig, axs = plt.subplots(r, c, figsize=(10,10))\n",
        "          \n",
        "          img_g = image_g.cpu()\n",
        "          img_g = img_g.detach()\n",
        "          img_c = color_output.detach()\n",
        "          final = utls.convert_lab2rgb(img_g, img_c).cpu()\n",
        "           \n",
        "          for a in range(r):\n",
        "            for b in range(c):\n",
        "\n",
        "                axs[a,b].imshow(final[index, ...])\n",
        "                axs[a,b].axis('off')\n",
        "                \n",
        "                if (index == 1) :\n",
        "                  final = final.numpy()\n",
        "                  print(\"R min/max : \", np.min(final[index, ..., 0]), np.max(final[index, ..., 0]),\n",
        "                        \"G min/max : \", np.min(final[index, ..., 1]), np.max(final[index, ..., 1]),\n",
        "                        \"B min/max : \", np.min(final[index, ..., 2]), np.max(final[index, ..., 2]))\n",
        "                \n",
        "                index += 1\n",
        "          \n",
        "          fig.savefig(\"___epoch_%d.png\" % i)\n",
        "          plt.close()\n",
        "          print(\"plotted\")\n",
        "      \n",
        "      \n",
        "      j += 1\n",
        "          \n"
      ],
      "execution_count": 0,
      "outputs": [
        {
          "output_type": "stream",
          "text": [
            "epoch  0\n",
            "iteration  0 out of  156 \terrD :  95.766 \terrG :  226.613\n",
            "R min/max :  0.029262142 0.99119735 G min/max :  0.031419612 0.98831356 B min/max :  0.032994628 0.9898991\n",
            "plotted\n",
            "iteration  10 out of  156 \terrD :  5.21 \terrG :  15.195\n",
            "iteration  20 out of  156 \terrD :  10.218 \terrG :  47.144\n",
            "iteration  30 out of  156 \terrD :  42.088 \terrG :  43.142\n",
            "iteration  40 out of  156 \terrD :  1.38 \terrG :  2.983\n",
            "iteration  50 out of  156 \terrD :  3.285 \terrG :  9.643\n",
            "iteration  60 out of  156 \terrD :  4.485 \terrG :  1.994\n",
            "iteration  70 out of  156 \terrD :  2.651 \terrG :  1.286\n",
            "iteration  80 out of  156 \terrD :  1.288 \terrG :  0.896\n",
            "iteration  90 out of  156 \terrD :  5.626 \terrG :  2.804\n",
            "iteration  100 out of  156 \terrD :  1.534 \terrG :  5.561\n",
            "iteration  110 out of  156 \terrD :  27.147 \terrG :  1.991\n",
            "iteration  120 out of  156 \terrD :  1.332 \terrG :  1.559\n"
          ],
          "name": "stdout"
        }
      ]
    },
    {
      "metadata": {
        "id": "FjlIQhn25L45",
        "colab_type": "code",
        "colab": {}
      },
      "cell_type": "code",
      "source": [
        ""
      ],
      "execution_count": 0,
      "outputs": []
    },
    {
      "metadata": {
        "id": "jomjuN0Z5L49",
        "colab_type": "code",
        "colab": {}
      },
      "cell_type": "code",
      "source": [
        ""
      ],
      "execution_count": 0,
      "outputs": []
    },
    {
      "metadata": {
        "id": "b50QdcAp5L5A",
        "colab_type": "code",
        "colab": {}
      },
      "cell_type": "code",
      "source": [
        ""
      ],
      "execution_count": 0,
      "outputs": []
    }
  ]
}